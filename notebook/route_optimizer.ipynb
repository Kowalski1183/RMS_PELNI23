{
 "cells": [
  {
   "cell_type": "markdown",
   "metadata": {},
   "source": [
    "Route Optimizer"
   ]
  },
  {
   "cell_type": "code",
   "execution_count": 13,
   "metadata": {},
   "outputs": [],
   "source": [
    "import json\n",
    "import pandas as pd"
   ]
  },
  {
   "cell_type": "code",
   "execution_count": 26,
   "metadata": {},
   "outputs": [],
   "source": [
    "def cleansing_input(filename):\n",
    "    with open(f'../data/{filename}.json', 'r') as f:\n",
    "        data = json.load(f)\n",
    "    \n",
    "    route_detail = data['parameter']['data']['routeDetail']\n",
    "    df = pd.DataFrame(route_detail)\n",
    "    for i in df.index:\n",
    "        if (df.loc[i, 'minPort'] == None) | (df.loc[i, 'minPort'] == '') | (df.loc[i, 'minPort'] == 'NOT_SPECIFIED'):\n",
    "            df.loc[i, 'minPort'] = 2\n",
    "        if (df.loc[i, 'maxPort'] == None) | (df.loc[i, 'maxPort'] == '') | (df.loc[i, 'maxPort'] == 'NOT_SPECIFIED'):\n",
    "            df.loc[i, 'maxPort'] = 50\n",
    "        if (df.loc[i, 'minComDays'] == None) | (df.loc[i, 'minComDays'] == '') | (df.loc[i, 'minComDays'] == 'NOT_SPECIFIED'):\n",
    "            df.loc[i, 'minComDays'] = 1\n",
    "        if (df.loc[i, 'maxComDays'] == None) | (df.loc[i, 'maxComDays'] == '') | (df.loc[i, 'maxComDays'] == 'NOT_SPECIFIED'):\n",
    "            df.loc[i, 'maxComDays'] = 28\n",
    "        if (df.loc[i, 'regionRule'] == None) | (df.loc[i, 'regionRule'] == '') | (df.loc[i, 'regionRule'] == 'NOT_SPECIFIED'):\n",
    "            df.loc[i, 'regionRule'] = 2\n",
    "        if (df.loc[i, 'roundTrip'] == None) | (df.loc[i, 'roundTrip'] == '') | (df.loc[i, 'roundTrip'] == 'NOT_SPECIFIED'):\n",
    "            df.loc[i, 'roundTrip'] = 0\n",
    "    return df"
   ]
  },
  {
   "cell_type": "code",
   "execution_count": 25,
   "metadata": {},
   "outputs": [
    {
     "data": {
      "text/html": [
       "<div>\n",
       "<style scoped>\n",
       "    .dataframe tbody tr th:only-of-type {\n",
       "        vertical-align: middle;\n",
       "    }\n",
       "\n",
       "    .dataframe tbody tr th {\n",
       "        vertical-align: top;\n",
       "    }\n",
       "\n",
       "    .dataframe thead th {\n",
       "        text-align: right;\n",
       "    }\n",
       "</style>\n",
       "<table border=\"1\" class=\"dataframe\">\n",
       "  <thead>\n",
       "    <tr style=\"text-align: right;\">\n",
       "      <th></th>\n",
       "      <th>idShip</th>\n",
       "      <th>lastLocationPort</th>\n",
       "      <th>originPort</th>\n",
       "      <th>destinationPort</th>\n",
       "      <th>mustVisitPort</th>\n",
       "      <th>minPort</th>\n",
       "      <th>maxPort</th>\n",
       "      <th>minComDays</th>\n",
       "      <th>maxComDays</th>\n",
       "      <th>regionRule</th>\n",
       "      <th>roundTrip</th>\n",
       "    </tr>\n",
       "  </thead>\n",
       "  <tbody>\n",
       "    <tr>\n",
       "      <th>0</th>\n",
       "      <td>f3b7a6b0-21a3-45e5-82dc-0eaaec39ede4</td>\n",
       "      <td>05aa9d6c-6999-4f7a-b4d6-7dddca9db337</td>\n",
       "      <td>19887a24-9011-425f-bc0c-5f5cd512ba5a</td>\n",
       "      <td></td>\n",
       "      <td></td>\n",
       "      <td>2</td>\n",
       "      <td>10</td>\n",
       "      <td>1</td>\n",
       "      <td>14</td>\n",
       "      <td>2</td>\n",
       "      <td>1</td>\n",
       "    </tr>\n",
       "    <tr>\n",
       "      <th>1</th>\n",
       "      <td>d4787f56-56d0-45ae-8822-ce55b720357a</td>\n",
       "      <td>19887a24-9011-425f-bc0c-5f5cd512ba5a</td>\n",
       "      <td></td>\n",
       "      <td>3c42cdbb-1dd7-4214-99d3-ffabc2c2a93d</td>\n",
       "      <td>6a01e7c5-05e6-4ab7-a706-f0936f32a837, 3c42cdbb...</td>\n",
       "      <td>3</td>\n",
       "      <td>50</td>\n",
       "      <td>1</td>\n",
       "      <td>28</td>\n",
       "      <td>2</td>\n",
       "      <td>1</td>\n",
       "    </tr>\n",
       "  </tbody>\n",
       "</table>\n",
       "</div>"
      ],
      "text/plain": [
       "                                 idShip                      lastLocationPort  \\\n",
       "0  f3b7a6b0-21a3-45e5-82dc-0eaaec39ede4  05aa9d6c-6999-4f7a-b4d6-7dddca9db337   \n",
       "1  d4787f56-56d0-45ae-8822-ce55b720357a  19887a24-9011-425f-bc0c-5f5cd512ba5a   \n",
       "\n",
       "                             originPort                       destinationPort  \\\n",
       "0  19887a24-9011-425f-bc0c-5f5cd512ba5a                                         \n",
       "1                                        3c42cdbb-1dd7-4214-99d3-ffabc2c2a93d   \n",
       "\n",
       "                                       mustVisitPort  minPort maxPort  \\\n",
       "0                                                           2      10   \n",
       "1  6a01e7c5-05e6-4ab7-a706-f0936f32a837, 3c42cdbb...        3      50   \n",
       "\n",
       "   minComDays maxComDays regionRule  roundTrip  \n",
       "0           1         14          2          1  \n",
       "1           1         28          2          1  "
      ]
     },
     "execution_count": 25,
     "metadata": {},
     "output_type": "execute_result"
    }
   ],
   "source": [
    "cleansing_input('route_optimizer')"
   ]
  }
 ],
 "metadata": {
  "kernelspec": {
   "display_name": "Python 3",
   "language": "python",
   "name": "python3"
  },
  "language_info": {
   "codemirror_mode": {
    "name": "ipython",
    "version": 3
   },
   "file_extension": ".py",
   "mimetype": "text/x-python",
   "name": "python",
   "nbconvert_exporter": "python",
   "pygments_lexer": "ipython3",
   "version": "3.11.3"
  },
  "orig_nbformat": 4
 },
 "nbformat": 4,
 "nbformat_minor": 2
}
