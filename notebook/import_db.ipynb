{
 "cells": [
  {
   "cell_type": "code",
   "execution_count": 1,
   "metadata": {},
   "outputs": [],
   "source": [
    "import psycopg2\n",
    "import os\n",
    "import io\n",
    "import pandas as pd\n",
    "\n",
    "def import_csv(csvfilepath):\n",
    "    # Establish a database connection\n",
    "    connection = psycopg2.connect(\n",
    "        dbname=os.getenv(\"POSTGRES_DB\"),\n",
    "        user=os.getenv(\"POSTGRES_USER\"),\n",
    "        password='P@ssw0rd!!',\n",
    "        host=os.getenv(\"POSTGRES_SERVER\"),\n",
    "        port=os.getenv(\"POSTGRES_PORT\"),\n",
    "    )\n",
    "\n",
    "    cursor = connection.cursor()\n",
    "\n",
    "    csv_buffer = io.StringIO()\n",
    "    csv_buffer.write(open(csvfilepath, 'r').read())\n",
    "\n",
    "    csv_buffer.seek(0)\n",
    "    \n",
    "    column_names = [\n",
    "            'id_port', 'port_name', 'latitude', 'longitude'\n",
    "        ]\n",
    "\n",
    "    # Use the COPY command to bulk insert data from the StringIO buffer\n",
    "    copy_sql = f\"\"\"\n",
    "        COPY stg_pelni.temp_try (\n",
    "            {', '.join(column_names)}\n",
    "        ) FROM STDIN WITH CSV HEADER;\n",
    "    \"\"\"\n",
    "    cursor.copy_expert(copy_sql, csv_buffer)\n",
    "\n",
    "    connection.commit()\n",
    "\n",
    "    cursor.close()\n",
    "    connection.close()"
   ]
  },
  {
   "cell_type": "code",
   "execution_count": 6,
   "metadata": {},
   "outputs": [],
   "source": [
    "import_csv('data/temp_koordinat.csv')"
   ]
  }
 ],
 "metadata": {
  "kernelspec": {
   "display_name": ".venv",
   "language": "python",
   "name": "python3"
  },
  "language_info": {
   "codemirror_mode": {
    "name": "ipython",
    "version": 3
   },
   "file_extension": ".py",
   "mimetype": "text/x-python",
   "name": "python",
   "nbconvert_exporter": "python",
   "pygments_lexer": "ipython3",
   "version": "3.11.4"
  }
 },
 "nbformat": 4,
 "nbformat_minor": 2
}
