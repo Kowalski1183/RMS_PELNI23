{
 "cells": [
  {
   "cell_type": "code",
   "execution_count": null,
   "metadata": {},
   "outputs": [],
   "source": [
    "print('cleansing latitude and longitude')"
   ]
  },
  {
   "cell_type": "code",
   "execution_count": null,
   "metadata": {},
   "outputs": [],
   "source": [
    "import pandas.io.sql as sqlio\n",
    "import psycopg2 as ps\n",
    "import os\n",
    "from dotenv import load_dotenv\n",
    "import pandas as pd\n",
    "import numpy as np\n",
    "import datetime as dt\n",
    "from datetime import date, time, datetime\n",
    "import math"
   ]
  },
  {
   "cell_type": "code",
   "execution_count": null,
   "metadata": {},
   "outputs": [],
   "source": [
    "load_dotenv()\n",
    "db = os.getenv('POSTGRES_DB')\n",
    "user = os.getenv('POSTGRES_USER')\n",
    "password = os.getenv('POSTGRES_PASSWORD')\n",
    "host = os.getenv('POSTGRES_SERVER')\n",
    "port = os.getenv('POSTGRES_PORT')"
   ]
  },
  {
   "cell_type": "code",
   "execution_count": null,
   "metadata": {},
   "outputs": [],
   "source": [
    "conn = ps.connect(dbname=db, \n",
    "                  user=user,\n",
    "                  password=password, \n",
    "                  host=host,\n",
    "                  port=port)"
   ]
  },
  {
   "cell_type": "code",
   "execution_count": null,
   "metadata": {},
   "outputs": [],
   "source": [
    "sql = \"\"\"select * from stg_pelni.master_port mp\n",
    "where mp.flag_ppss ='Y' and mp.is_deleted =false\"\"\""
   ]
  },
  {
   "cell_type": "code",
   "execution_count": null,
   "metadata": {},
   "outputs": [],
   "source": [
    "# Read Query\n",
    "df_sql = sqlio.read_sql_query(sql, conn)"
   ]
  },
  {
   "cell_type": "code",
   "execution_count": null,
   "metadata": {},
   "outputs": [],
   "source": [
    "# Delete data null, None, and Nan di columns latitude and longitude\n",
    "df_sql = df_sql.dropna(subset=['longitude'])\n",
    "df_sql = df_sql.dropna(subset=['latitude'])\n",
    "df_sql = df_sql[df_sql['longitude'] != 'Nan']\n",
    "df_sql = df_sql[df_sql['latitude'] != 'Nan']\n",
    "df_sql = df_sql[df_sql['longitude'] != 'None']\n",
    "df_sql = df_sql[df_sql['latitude'] != 'None']\n",
    "df_sql"
   ]
  },
  {
   "cell_type": "code",
   "execution_count": null,
   "metadata": {},
   "outputs": [],
   "source": [
    "cleandf = pd.read_csv('data/lat_long.csv')"
   ]
  },
  {
   "cell_type": "code",
   "execution_count": null,
   "metadata": {},
   "outputs": [],
   "source": [
    "#Bawean\n",
    "cleandf.loc[cleandf.index == 0,'latitude'] = '-5.8527991'\n",
    "cleandf.loc[cleandf.index == 0,'longitude'] = '112.6422647'\n",
    "\n",
    "#Kahakitang\n",
    "cleandf.loc[cleandf.index == 1,'latitude'] = '3.1747175'\n",
    "cleandf.loc[cleandf.index == 1,'longitude'] = '125.5178323'\n",
    "\n",
    "#Amurang\n",
    "cleandf.loc[cleandf.index == 2,'latitude'] = '1.1981936'\n",
    "cleandf.loc[cleandf.index == 2,'longitude'] = '124.5502545'\n",
    "\n",
    "#Panjang\n",
    "cleandf.loc[cleandf.index == 3,'latitude'] = '-5.4686328'\n",
    "cleandf.loc[cleandf.index == 3,'longitude'] = '105.3197043'\n",
    "\n",
    "#Awerange/Barru\n",
    "cleandf.loc[cleandf.index == 4,'latitude'] = '-4.217699'\n",
    "cleandf.loc[cleandf.index == 4,'longitude'] = '119.6154767'\n",
    "\n",
    "#Tanjung Priok\n",
    "cleandf.loc[cleandf.index == 5,'latitude'] = '-6.0919444'\n",
    "cleandf.loc[cleandf.index == 5,'longitude'] = '106.8816667'\n",
    "\n",
    "#Namrole\n",
    "cleandf.loc[cleandf.index == 6,'latitude'] = '-3.849669'\n",
    "cleandf.loc[cleandf.index == 6,'longitude'] = '126.734205'\n",
    "\n",
    "#Reo\n",
    "cleandf.loc[cleandf.index == 7,'latitude'] = '-8.2860707'\n",
    "cleandf.loc[cleandf.index == 7,'longitude'] = '120.4533233'\n",
    "\n",
    "#Waikelo\n",
    "cleandf.loc[cleandf.index == 8,'latitude'] = '-9.3918749'\n",
    "cleandf.loc[cleandf.index == 8,'longitude'] = '119.2203543'\n",
    "\n",
    "#Patimban\n",
    "cleandf.loc[cleandf.index == 9,'latitude'] = '-6.2440343'\n",
    "cleandf.loc[cleandf.index == 9,'longitude'] = '107.9040659'\n",
    "\n",
    "#Wakai, Togian\n",
    "cleandf.loc[cleandf.index == 10,'latitude'] = '-0.410384'\n",
    "cleandf.loc[cleandf.index == 10,'longitude'] = '121.869011'\n",
    "\n",
    "#Sadai\n",
    "cleandf.loc[cleandf.index == 11,'latitude'] = '-3.0058895'\n",
    "cleandf.loc[cleandf.index == 11,'longitude'] = '106.7385071'\n",
    "\n",
    "#Pangkalan Bun\n",
    "cleandf.loc[cleandf.index == 12,'latitude'] = '-2.6919509'\n",
    "cleandf.loc[cleandf.index == 12,'longitude'] = '111.62878'\n",
    "\n",
    "#Lhok Tuan\n",
    "cleandf.loc[cleandf.index == 13,'latitude'] = '0.1653058'\n",
    "cleandf.loc[cleandf.index == 13,'longitude'] = '117.4861246'"
   ]
  },
  {
   "cell_type": "code",
   "execution_count": null,
   "metadata": {},
   "outputs": [],
   "source": [
    "merge = pd.concat([cleandf, df_sql])\n",
    "# reset index\n",
    "merge.index = np.arange(1, len(merge) + 1)"
   ]
  },
  {
   "cell_type": "code",
   "execution_count": null,
   "metadata": {},
   "outputs": [],
   "source": [
    "merge.columns.values"
   ]
  },
  {
   "cell_type": "code",
   "execution_count": null,
   "metadata": {},
   "outputs": [],
   "source": [
    "# merge['id_port'] = merge['id_port'].astype(str)\n",
    "# merge['deleted_by'] = merge['deleted_by'].astype(str)\n",
    "# merge['deleted_date'] = pd.to_datetime(merge[\"deleted_date\"])\n",
    "# merge['is_deleted'] = merge['is_deleted'].astype(bool)\n",
    "# merge['created_by'] = merge['created_by'].astype(str)\n",
    "# merge['created_date'] = pd.to_datetime(merge[\"created_date\"])\n",
    "# merge['changed_by'] = merge['changed_by'].astype(str)\n",
    "\n",
    "# merge['changed_date'] = pd.to_datetime(merge[\"changed_date\"])\n",
    "# merge['active_status'] = merge['active_status'].astype(bool)\n",
    "# merge['address'] = merge['address'].astype(str)\n",
    "# merge['avg_berth_time'] = merge['avg_berth_time'].astype(float)\n",
    "# merge['city_regency'] = merge['city_regency'].astype(str)\n",
    "\n",
    "# merge['code'] = merge['code'].astype(str)\n",
    "# merge['cruise_line_length'] = pd.to_numeric(merge['cruise_line_length'])\n",
    "# merge['cruise_line_width'] = pd.to_numeric(merge['cruise_line_width'])\n",
    "# merge['flag_data_source'] = merge['flag_data_source'].astype(str)\n",
    "# merge['flag_pioneer'] = merge['flag_pioneer'].astype(str)\n",
    "# merge['flag_ppss'] = merge['flag_ppss'].astype(str)\n",
    "# merge['fresh_water'] = merge['fresh_water'].astype(str)\n",
    "\n",
    "# merge['freshwater_delivery_method'] = merge['freshwater_delivery_method'].astype(str)\n",
    "# merge['fuel'] = merge['fuel'].astype(bool)\n",
    "# merge['height_at_high_tide'] = pd.to_numeric(merge['height_at_high_tide'])\n",
    "# merge['height_at_low_tide'] = pd.to_numeric(merge['height_at_low_tide'])\n",
    "# merge['latitude'] = merge['latitude'].astype(str)\n",
    "# merge['longitude'] = merge['longitude'].astype(str)\n",
    "# merge['max_berth_time'] = pd.to_datetime(merge[\"max_berth_time\"])\n",
    "\n",
    "# merge['min_berth_time'] = pd.to_datetime(merge[\"min_berth_time\"])\n",
    "# merge['number_of_berth'] = merge['number_of_berth'].astype(str)\n",
    "# merge['phone'] = merge['phone'].astype(str)\n",
    "# merge['pic_local'] = merge['pic_local'].astype(str)\n",
    "\n",
    "\n",
    "# merge['pilot_ship'] = merge['pilot_ship'].astype(str)\n",
    "# merge['port_code'] = merge['port_code'].astype(str)\n",
    "# merge['port_name'] = merge['port_name'].astype(str)\n",
    "# merge['province'] = merge['province'].astype(str)\n",
    "# merge['pumping_rate'] = pd.to_numeric(merge['pumping_rate'])\n",
    "# merge['timezone_offset'] = merge['timezone_offset'].astype(int)\n",
    "# merge['tugboat'] = merge['tugboat'].astype(str)\n",
    "# merge['utc'] = merge['utc'].astype(str)\n",
    "# merge['wharf_depth'] = merge['wharf_depth'].astype(str)\n",
    "# merge['wharf_length'] = merge['wharf_length'].astype(str)"
   ]
  },
  {
   "cell_type": "code",
   "execution_count": null,
   "metadata": {},
   "outputs": [],
   "source": [
    "# merge = merge.loc[:,['id_port','port_name','latitude','longitude']]\n",
    "# merge"
   ]
  },
  {
   "cell_type": "code",
   "execution_count": null,
   "metadata": {},
   "outputs": [],
   "source": [
    "# merge.to_csv('data/update_koordinat.csv')"
   ]
  },
  {
   "cell_type": "code",
   "execution_count": null,
   "metadata": {},
   "outputs": [],
   "source": [
    "# Export data without index (index=False)\n",
    "merge.to_csv('data/temp_koordinat.csv',index=False)"
   ]
  }
 ],
 "metadata": {
  "kernelspec": {
   "display_name": ".venv",
   "language": "python",
   "name": "python3"
  },
  "language_info": {
   "codemirror_mode": {
    "name": "ipython",
    "version": 3
   },
   "file_extension": ".py",
   "mimetype": "text/x-python",
   "name": "python",
   "nbconvert_exporter": "python",
   "pygments_lexer": "ipython3",
   "version": "3.11.4"
  }
 },
 "nbformat": 4,
 "nbformat_minor": 2
}
