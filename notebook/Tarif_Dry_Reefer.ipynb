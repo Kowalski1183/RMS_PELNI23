{
 "cells": [
  {
   "cell_type": "code",
   "execution_count": null,
   "metadata": {},
   "outputs": [],
   "source": [
    "print('Data Cleansing - Tarif Dry Reefer')"
   ]
  },
  {
   "cell_type": "code",
   "execution_count": null,
   "metadata": {},
   "outputs": [],
   "source": [
    "import pandas.io.sql as sqlio\n",
    "import psycopg2 as ps\n",
    "import os\n",
    "from dotenv import load_dotenv\n",
    "import pandas as pd\n",
    "import numpy as np\n",
    "import datetime as dt\n",
    "from datetime import date, time, datetime\n",
    "import math"
   ]
  },
  {
   "cell_type": "code",
   "execution_count": null,
   "metadata": {},
   "outputs": [],
   "source": [
    "load_dotenv()\n",
    "db = os.getenv('POSTGRES_DB')\n",
    "user = os.getenv('POSTGRES_USER')\n",
    "password = os.getenv('POSTGRES_PASSWORD')\n",
    "host = os.getenv('POSTGRES_SERVER')\n",
    "port = os.getenv('POSTGRES_PORT')"
   ]
  },
  {
   "cell_type": "code",
   "execution_count": null,
   "metadata": {},
   "outputs": [],
   "source": [
    "conn = ps.connect(dbname=db, \n",
    "                  user=user,\n",
    "                  password=password, \n",
    "                  host=host,\n",
    "                  port=port)"
   ]
  },
  {
   "cell_type": "code",
   "execution_count": null,
   "metadata": {},
   "outputs": [],
   "source": [
    "sql = \"\"\"select * from stg_pelni.master_port mp\n",
    "where mp.flag_ppss ='Y' and mp.is_deleted =false\"\"\""
   ]
  },
  {
   "cell_type": "code",
   "execution_count": null,
   "metadata": {},
   "outputs": [],
   "source": [
    "# Read Query\n",
    "df_sql = sqlio.read_sql_query(sql, conn)\n",
    "df_sql2 = sqlio.read_sql_query(sql, conn)"
   ]
  },
  {
   "cell_type": "code",
   "execution_count": null,
   "metadata": {},
   "outputs": [],
   "source": [
    "df_sql.columns.values"
   ]
  },
  {
   "cell_type": "code",
   "execution_count": null,
   "metadata": {},
   "outputs": [],
   "source": [
    "df_sql = df_sql.loc[:, ['code', 'port_name','id_port']]\n",
    "df_sql2 = df_sql2.loc[:, ['code', 'port_name', 'id_port']]"
   ]
  },
  {
   "cell_type": "code",
   "execution_count": null,
   "metadata": {},
   "outputs": [],
   "source": [
    "df_sql = df_sql.rename(columns={'code' : 'code_embarkasi', 'port_name' : 'embarkasi', 'id_port' : 'id_embarkasi'})\n",
    "df_sql2 = df_sql2.rename(columns={'code' : 'code_debarkasi', 'port_name' : 'debarkasi', 'id_port' : 'id_debarkasi'})"
   ]
  },
  {
   "cell_type": "code",
   "execution_count": null,
   "metadata": {},
   "outputs": [],
   "source": [
    "# Read CSV\n",
    "df = pd.read_csv('data/temp_tarif.csv')\n",
    "df.head()"
   ]
  },
  {
   "cell_type": "code",
   "execution_count": null,
   "metadata": {},
   "outputs": [],
   "source": [
    "# Change Typedata\n",
    "df['embarkasi'] = df['embarkasi'].astype(str)\n",
    "df_sql['embarkasi'] = df_sql['embarkasi'].astype(str)\n",
    "\n",
    "# Inner Join\n",
    "merge_data = pd.merge(df_sql, \n",
    "                      df, \n",
    "                      on ='embarkasi', \n",
    "                      how ='inner')"
   ]
  },
  {
   "cell_type": "code",
   "execution_count": null,
   "metadata": {},
   "outputs": [],
   "source": [
    "# Change Typedata\n",
    "df['debarkasi'] = df['debarkasi'].astype(str)\n",
    "df_sql2['debarkasi'] = df_sql2['debarkasi'].astype(str)\n",
    "\n",
    "# Inner Join\n",
    "cleandf = pd.merge(df_sql2, \n",
    "                      merge_data, \n",
    "                      on ='debarkasi', \n",
    "                      how ='inner')"
   ]
  },
  {
   "cell_type": "code",
   "execution_count": 20,
   "metadata": {},
   "outputs": [
    {
     "data": {
      "text/plain": [
       "array(['code_debarkasi', 'debarkasi', 'id_debarkasi', 'code_embarkasi',\n",
       "       'embarkasi', 'id_embarkasi', 'id', 'dry', 'reefer'], dtype=object)"
      ]
     },
     "execution_count": 20,
     "metadata": {},
     "output_type": "execute_result"
    }
   ],
   "source": [
    "cleandf.columns.values"
   ]
  },
  {
   "cell_type": "code",
   "execution_count": 21,
   "metadata": {},
   "outputs": [
    {
     "data": {
      "text/html": [
       "<div>\n",
       "<style scoped>\n",
       "    .dataframe tbody tr th:only-of-type {\n",
       "        vertical-align: middle;\n",
       "    }\n",
       "\n",
       "    .dataframe tbody tr th {\n",
       "        vertical-align: top;\n",
       "    }\n",
       "\n",
       "    .dataframe thead th {\n",
       "        text-align: right;\n",
       "    }\n",
       "</style>\n",
       "<table border=\"1\" class=\"dataframe\">\n",
       "  <thead>\n",
       "    <tr style=\"text-align: right;\">\n",
       "      <th></th>\n",
       "      <th>id_embarkasi</th>\n",
       "      <th>id_debarkasi</th>\n",
       "      <th>debarkasi</th>\n",
       "      <th>embarkasi</th>\n",
       "      <th>code_embarkasi</th>\n",
       "      <th>code_debarkasi</th>\n",
       "      <th>dry</th>\n",
       "      <th>reefer</th>\n",
       "    </tr>\n",
       "  </thead>\n",
       "  <tbody>\n",
       "    <tr>\n",
       "      <th>0</th>\n",
       "      <td>cc0756e0-437b-4403-b4c9-14d4bc895620</td>\n",
       "      <td>b456ed3f-543d-416e-98a2-e835bf4f4bec</td>\n",
       "      <td>Amurang</td>\n",
       "      <td>Toli-toli</td>\n",
       "      <td>861</td>\n",
       "      <td>920</td>\n",
       "      <td>2,451,000</td>\n",
       "      <td>2,884,000</td>\n",
       "    </tr>\n",
       "    <tr>\n",
       "      <th>1</th>\n",
       "      <td>b166ff1e-a3f6-4899-a4f4-27f7ad076b6a</td>\n",
       "      <td>b456ed3f-543d-416e-98a2-e835bf4f4bec</td>\n",
       "      <td>Amurang</td>\n",
       "      <td>Manokwari</td>\n",
       "      <td>972</td>\n",
       "      <td>920</td>\n",
       "      <td>7,496,000</td>\n",
       "      <td>8,816,000</td>\n",
       "    </tr>\n",
       "    <tr>\n",
       "      <th>2</th>\n",
       "      <td>3c42cdbb-1dd7-4214-99d3-ffabc2c2a93d</td>\n",
       "      <td>b456ed3f-543d-416e-98a2-e835bf4f4bec</td>\n",
       "      <td>Amurang</td>\n",
       "      <td>Jayapura</td>\n",
       "      <td>974</td>\n",
       "      <td>920</td>\n",
       "      <td>11,203,000</td>\n",
       "      <td>13,178,000</td>\n",
       "    </tr>\n",
       "    <tr>\n",
       "      <th>3</th>\n",
       "      <td>5267592e-5d29-4fdf-8975-7ade3bd50b39</td>\n",
       "      <td>b456ed3f-543d-416e-98a2-e835bf4f4bec</td>\n",
       "      <td>Amurang</td>\n",
       "      <td>Pantoloan</td>\n",
       "      <td>863</td>\n",
       "      <td>920</td>\n",
       "      <td>4,465,000</td>\n",
       "      <td>5,253,000</td>\n",
       "    </tr>\n",
       "    <tr>\n",
       "      <th>4</th>\n",
       "      <td>c2f757c2-442b-4fce-9a53-4292baf0f776</td>\n",
       "      <td>b456ed3f-543d-416e-98a2-e835bf4f4bec</td>\n",
       "      <td>Amurang</td>\n",
       "      <td>Semayang</td>\n",
       "      <td>803</td>\n",
       "      <td>920</td>\n",
       "      <td>5,920,000</td>\n",
       "      <td>6,964,000</td>\n",
       "    </tr>\n",
       "    <tr>\n",
       "      <th>...</th>\n",
       "      <td>...</td>\n",
       "      <td>...</td>\n",
       "      <td>...</td>\n",
       "      <td>...</td>\n",
       "      <td>...</td>\n",
       "      <td>...</td>\n",
       "      <td>...</td>\n",
       "      <td>...</td>\n",
       "    </tr>\n",
       "    <tr>\n",
       "      <th>448</th>\n",
       "      <td>55596cb8-7e4e-4b06-b557-bee57775e70a</td>\n",
       "      <td>1334ec95-cc8a-4464-a263-0b0beee559da</td>\n",
       "      <td>Sei Kolak Kijang</td>\n",
       "      <td>Bau-Bau/Murhum</td>\n",
       "      <td>921</td>\n",
       "      <td>251</td>\n",
       "      <td>12,379,000</td>\n",
       "      <td>14,561,000</td>\n",
       "    </tr>\n",
       "    <tr>\n",
       "      <th>449</th>\n",
       "      <td>6a01e7c5-05e6-4ab7-a706-f0936f32a837</td>\n",
       "      <td>1334ec95-cc8a-4464-a263-0b0beee559da</td>\n",
       "      <td>Sei Kolak Kijang</td>\n",
       "      <td>Makassar</td>\n",
       "      <td>893</td>\n",
       "      <td>251</td>\n",
       "      <td>10,625,000</td>\n",
       "      <td>12,498,000</td>\n",
       "    </tr>\n",
       "    <tr>\n",
       "      <th>450</th>\n",
       "      <td>19887a24-9011-425f-bc0c-5f5cd512ba5a</td>\n",
       "      <td>1334ec95-cc8a-4464-a263-0b0beee559da</td>\n",
       "      <td>Sei Kolak Kijang</td>\n",
       "      <td>Tanjung Perak</td>\n",
       "      <td>563</td>\n",
       "      <td>251</td>\n",
       "      <td>7,375,000</td>\n",
       "      <td>8,676,000</td>\n",
       "    </tr>\n",
       "    <tr>\n",
       "      <th>451</th>\n",
       "      <td>7d09ed71-36f8-40bf-996a-5a09bae5dc3d</td>\n",
       "      <td>1334ec95-cc8a-4464-a263-0b0beee559da</td>\n",
       "      <td>Sei Kolak Kijang</td>\n",
       "      <td>Bitung</td>\n",
       "      <td>835</td>\n",
       "      <td>251</td>\n",
       "      <td>17,741,000</td>\n",
       "      <td>20,868,000</td>\n",
       "    </tr>\n",
       "    <tr>\n",
       "      <th>452</th>\n",
       "      <td>72346087-6a6a-462b-a434-913d6f2e5ca9</td>\n",
       "      <td>1334ec95-cc8a-4464-a263-0b0beee559da</td>\n",
       "      <td>Sei Kolak Kijang</td>\n",
       "      <td>Ternate</td>\n",
       "      <td>942</td>\n",
       "      <td>251</td>\n",
       "      <td>18,918,000</td>\n",
       "      <td>22,251,000</td>\n",
       "    </tr>\n",
       "  </tbody>\n",
       "</table>\n",
       "<p>453 rows × 8 columns</p>\n",
       "</div>"
      ],
      "text/plain": [
       "                             id_embarkasi  \\\n",
       "0    cc0756e0-437b-4403-b4c9-14d4bc895620   \n",
       "1    b166ff1e-a3f6-4899-a4f4-27f7ad076b6a   \n",
       "2    3c42cdbb-1dd7-4214-99d3-ffabc2c2a93d   \n",
       "3    5267592e-5d29-4fdf-8975-7ade3bd50b39   \n",
       "4    c2f757c2-442b-4fce-9a53-4292baf0f776   \n",
       "..                                    ...   \n",
       "448  55596cb8-7e4e-4b06-b557-bee57775e70a   \n",
       "449  6a01e7c5-05e6-4ab7-a706-f0936f32a837   \n",
       "450  19887a24-9011-425f-bc0c-5f5cd512ba5a   \n",
       "451  7d09ed71-36f8-40bf-996a-5a09bae5dc3d   \n",
       "452  72346087-6a6a-462b-a434-913d6f2e5ca9   \n",
       "\n",
       "                             id_debarkasi         debarkasi       embarkasi  \\\n",
       "0    b456ed3f-543d-416e-98a2-e835bf4f4bec           Amurang       Toli-toli   \n",
       "1    b456ed3f-543d-416e-98a2-e835bf4f4bec           Amurang       Manokwari   \n",
       "2    b456ed3f-543d-416e-98a2-e835bf4f4bec           Amurang        Jayapura   \n",
       "3    b456ed3f-543d-416e-98a2-e835bf4f4bec           Amurang       Pantoloan   \n",
       "4    b456ed3f-543d-416e-98a2-e835bf4f4bec           Amurang        Semayang   \n",
       "..                                    ...               ...             ...   \n",
       "448  1334ec95-cc8a-4464-a263-0b0beee559da  Sei Kolak Kijang  Bau-Bau/Murhum   \n",
       "449  1334ec95-cc8a-4464-a263-0b0beee559da  Sei Kolak Kijang        Makassar   \n",
       "450  1334ec95-cc8a-4464-a263-0b0beee559da  Sei Kolak Kijang   Tanjung Perak   \n",
       "451  1334ec95-cc8a-4464-a263-0b0beee559da  Sei Kolak Kijang          Bitung   \n",
       "452  1334ec95-cc8a-4464-a263-0b0beee559da  Sei Kolak Kijang         Ternate   \n",
       "\n",
       "    code_embarkasi code_debarkasi         dry      reefer  \n",
       "0              861            920   2,451,000   2,884,000  \n",
       "1              972            920   7,496,000   8,816,000  \n",
       "2              974            920  11,203,000  13,178,000  \n",
       "3              863            920   4,465,000   5,253,000  \n",
       "4              803            920   5,920,000   6,964,000  \n",
       "..             ...            ...         ...         ...  \n",
       "448            921            251  12,379,000  14,561,000  \n",
       "449            893            251  10,625,000  12,498,000  \n",
       "450            563            251   7,375,000   8,676,000  \n",
       "451            835            251  17,741,000  20,868,000  \n",
       "452            942            251  18,918,000  22,251,000  \n",
       "\n",
       "[453 rows x 8 columns]"
      ]
     },
     "execution_count": 21,
     "metadata": {},
     "output_type": "execute_result"
    }
   ],
   "source": [
    "cleandf = cleandf.loc[:,['id_embarkasi','id_debarkasi', 'debarkasi', 'embarkasi', 'code_embarkasi', 'code_debarkasi','dry', 'reefer']]\n",
    "cleandf"
   ]
  }
 ],
 "metadata": {
  "kernelspec": {
   "display_name": ".venv",
   "language": "python",
   "name": "python3"
  },
  "language_info": {
   "codemirror_mode": {
    "name": "ipython",
    "version": 3
   },
   "file_extension": ".py",
   "mimetype": "text/x-python",
   "name": "python",
   "nbconvert_exporter": "python",
   "pygments_lexer": "ipython3",
   "version": "3.11.4"
  }
 },
 "nbformat": 4,
 "nbformat_minor": 2
}
